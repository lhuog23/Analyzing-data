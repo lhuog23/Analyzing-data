{
 "cells": [
  {
   "cell_type": "markdown",
   "id": "e7711c76",
   "metadata": {},
   "source": [
    "#    Profitable App Profiles for the App Store and Google Play Markets\n",
    "Our aim in this project is to find mobile app profiles that are profitable for the App Store and Google Play markets. \n",
    "We're working as data analysts for a company that builds Android and iOS mobile apps, and our job is to enable our team of developers to make data-driven decisions with respect to the kind of apps they build.\n",
    "At our company, we only build apps that are free to download and install, and our main source of revenue consists of in-app ads. This means that our revenue for any given app is mostly influenced by the number of users that use our app. Our goal for this project is to analyze data to help our developers understand what kinds of apps are likely to attract more users.\n",
    "- A data set containing data about approximately ten thousand Android apps from Google Play.\n",
    "- A data set containing data about approximately seven thousand iOS apps from the App Store."
   ]
  },
  {
   "cell_type": "code",
   "execution_count": 4,
   "id": "939941e9",
   "metadata": {},
   "outputs": [],
   "source": [
    "#open 2 datasets\n",
    "from csv import reader\n",
    "### The Google Play data set ###\n",
    "opened_file= open('googleplaystore.csv',encoding=\"utf8\")\n",
    "read_file= reader(opened_file)\n",
    "android = list(read_file)\n",
    "android_header= android[0]\n",
    "android= android[1:]\n",
    "### The App Store data set ###\n",
    "opened_file= open(\"AppleStore.csv\", encoding=\"utf8\")\n",
    "read_file= reader(opened_file)\n",
    "ios= list(read_file)\n",
    "ios_header= ios[0]\n",
    "ios= ios[1:]\n"
   ]
  },
  {
   "cell_type": "markdown",
   "id": "8eabc191",
   "metadata": {},
   "source": [
    "# OPEN & EXPLORE DATASET"
   ]
  },
  {
   "cell_type": "code",
   "execution_count": 5,
   "id": "8a520e40",
   "metadata": {},
   "outputs": [
    {
     "name": "stdout",
     "output_type": "stream",
     "text": [
      "['App', 'Category', 'Rating', 'Reviews', 'Size', 'Installs', 'Type', 'Price', 'Content Rating', 'Genres', 'Last Updated', 'Current Ver', 'Android Ver']\n",
      "['id', 'track_name', 'size_bytes', 'currency', 'price', 'rating_count_tot', 'rating_count_ver', 'user_rating', 'user_rating_ver', 'ver', 'cont_rating', 'prime_genre', 'sup_devices.num', 'ipadSc_urls.num', 'lang.num', 'vpp_lic']\n",
      "\n",
      "\n",
      "['Photo Editor & Candy Camera & Grid & ScrapBook', 'ART_AND_DESIGN', '4.1', '159', '19M', '10,000+', 'Free', '0', 'Everyone', 'Art & Design', 'January 7, 2018', '1.0.0', '4.0.3 and up']\n",
      "\n",
      "\n",
      "['Coloring book moana', 'ART_AND_DESIGN', '3.9', '967', '14M', '500,000+', 'Free', '0', 'Everyone', 'Art & Design;Pretend Play', 'January 15, 2018', '2.0.0', '4.0.3 and up']\n",
      "\n",
      "\n",
      "['U Launcher Lite – FREE Live Cool Themes, Hide Apps', 'ART_AND_DESIGN', '4.7', '87510', '8.7M', '5,000,000+', 'Free', '0', 'Everyone', 'Art & Design', 'August 1, 2018', '1.2.4', '4.0.3 and up']\n",
      "\n",
      "\n",
      "number of rows:  10841\n",
      "number of columns:  13\n",
      "['284882215', 'Facebook', '389879808', 'USD', '0.0', '2974676', '212', '3.5', '3.5', '95.0', '4+', 'Social Networking', '37', '1', '29', '1']\n",
      "\n",
      "\n",
      "['389801252', 'Instagram', '113954816', 'USD', '0.0', '2161558', '1289', '4.5', '4.0', '10.23', '12+', 'Photo & Video', '37', '0', '29', '1']\n",
      "\n",
      "\n",
      "['529479190', 'Clash of Clans', '116476928', 'USD', '0.0', '2130805', '579', '4.5', '4.5', '9.24.12', '9+', 'Games', '38', '5', '18', '1']\n",
      "\n",
      "\n",
      "number of rows:  7197\n",
      "number of columns:  16\n"
     ]
    }
   ],
   "source": [
    "#explore 2 data sets\n",
    "def explore_data(dataset, start, end, rows_and_columns= False):\n",
    "    dataset_slice= dataset[start:end]\n",
    "    for row in dataset_slice:\n",
    "        print(row)\n",
    "        print('\\n')\n",
    "    if rows_and_columns:\n",
    "        print('number of rows: ', len(dataset)) \n",
    "        print('number of columns: ', len(dataset[0]))\n",
    "print(android_header)\n",
    "print(ios_header)\n",
    "print('\\n')\n",
    "explore_data(android, 0, 3, True)\n",
    "explore_data(ios, 0, 3, True)"
   ]
  },
  {
   "cell_type": "markdown",
   "id": "415ee5a6",
   "metadata": {},
   "source": [
    "# DELETE WRONG DATA"
   ]
  },
  {
   "cell_type": "code",
   "execution_count": 6,
   "id": "b3cd194c",
   "metadata": {},
   "outputs": [
    {
     "name": "stdout",
     "output_type": "stream",
     "text": [
      "['Life Made WI-Fi Touchscreen Photo Frame', '1.9', '19', '3.0M', '1,000+', 'Free', '0', 'Everyone', '', 'February 11, 2018', '1.0.19', '4.0 and up']\n",
      "\n",
      "\n",
      "['Coloring book moana', 'ART_AND_DESIGN', '3.9', '967', '14M', '500,000+', 'Free', '0', 'Everyone', 'Art & Design;Pretend Play', 'January 15, 2018', '2.0.0', '4.0.3 and up']\n",
      "10841\n",
      "10840\n"
     ]
    }
   ],
   "source": [
    "#rows 10472: rating= 19. Max rating for the google play app= 5=> row 10472 is wrong\n",
    "print(android[10472])\n",
    "print('\\n')\n",
    "print(android[1])\n",
    "print(len(android))\n",
    "del android[10472] #delete wrong row\n",
    "print(len(android))"
   ]
  },
  {
   "cell_type": "markdown",
   "id": "17fde7d4",
   "metadata": {},
   "source": [
    "# Removing Duplicate Entries\n"
   ]
  },
  {
   "cell_type": "code",
   "execution_count": 7,
   "id": "212858ba",
   "metadata": {},
   "outputs": [
    {
     "name": "stdout",
     "output_type": "stream",
     "text": [
      "['Instagram', 'SOCIAL', '4.5', '66577313', 'Varies with device', '1,000,000,000+', 'Free', '0', 'Teen', 'Social', 'July 31, 2018', 'Varies with device', 'Varies with device']\n",
      "['Instagram', 'SOCIAL', '4.5', '66577446', 'Varies with device', '1,000,000,000+', 'Free', '0', 'Teen', 'Social', 'July 31, 2018', 'Varies with device', 'Varies with device']\n",
      "['Instagram', 'SOCIAL', '4.5', '66577313', 'Varies with device', '1,000,000,000+', 'Free', '0', 'Teen', 'Social', 'July 31, 2018', 'Varies with device', 'Varies with device']\n",
      "['Instagram', 'SOCIAL', '4.5', '66509917', 'Varies with device', '1,000,000,000+', 'Free', '0', 'Teen', 'Social', 'July 31, 2018', 'Varies with device', 'Varies with device']\n"
     ]
    }
   ],
   "source": [
    "#the application Instagram has four entries\n",
    "for app in android:\n",
    "    name= app[0]\n",
    "    if name=='Instagram':\n",
    "        print(app)\n"
   ]
  },
  {
   "cell_type": "code",
   "execution_count": 8,
   "id": "34064805",
   "metadata": {},
   "outputs": [
    {
     "name": "stdout",
     "output_type": "stream",
     "text": [
      "Numbers of duplicate apps is  1181\n",
      "Example of duplicate apps  ['Quick PDF Scanner + OCR FREE', 'Box', 'Google My Business', 'ZOOM Cloud Meetings', 'join.me - Simple Meetings', 'Box', 'Zenefits', 'Google Ads', 'Google My Business', 'Slack', 'FreshBooks Classic', 'Insightly CRM', 'QuickBooks Accounting: Invoicing & Expenses', 'HipChat - Chat Built for Teams', 'Xero Accounting Software', 'MailChimp - Email, Marketing Automation', 'Crew - Free Messaging and Scheduling', 'Asana: organize team projects', 'Google Analytics', 'AdWords Express']\n",
      "Numbers of unique apps is  9659\n",
      "\n",
      "\n",
      "Numbers of duplicate ios apps is  2\n",
      "['Mannequin Challenge', 'VR Roller Coaster']\n",
      "Numbers of unique ios apps is  2\n"
     ]
    }
   ],
   "source": [
    "duplicate_app= []\n",
    "unique_app=[]\n",
    "for app in android:\n",
    "    name= app[0]\n",
    "    if name in unique_app:\n",
    "        duplicate_app.append(name)\n",
    "    else:\n",
    "        unique_app.append(name)\n",
    "print('Numbers of duplicate apps is ',len(duplicate_app))\n",
    "print('Example of duplicate apps ', duplicate_app[:20])\n",
    "print('Numbers of unique apps is ',len(unique_app))\n",
    "dup_ios_app=[]\n",
    "unique_ios_app=[]\n",
    "for app in ios: \n",
    "    name= app[1]\n",
    "    if name in unique_ios_app:\n",
    "        dup_ios_app.append(name)\n",
    "    else:\n",
    "        unique_ios_app.append(name)\n",
    "print('\\n')\n",
    "print('Numbers of duplicate ios apps is ', len(dup_ios_app))\n",
    "print(dup_ios_app[:2])\n",
    "print('Numbers of unique ios apps is ', len(dup_ios_app))\n"
   ]
  },
  {
   "cell_type": "code",
   "execution_count": 9,
   "id": "921adf97",
   "metadata": {},
   "outputs": [],
   "source": [
    "#Create a dictionary where each key is a unique app name and \n",
    "#the corresponding dictionary value is the highest number of reviews of that app.\n",
    "reviews_max={}\n",
    "for app in android:\n",
    "    name= app[0]\n",
    "    n_viewers= float(app[3])\n",
    "    if name in reviews_max and reviews_max[name]< n_viewers:\n",
    "        reviews_max[name]= n_viewers\n",
    "    elif name not in reviews_max:\n",
    "        reviews_max[name]= n_viewers\n"
   ]
  },
  {
   "cell_type": "code",
   "execution_count": 10,
   "id": "03954a52",
   "metadata": {},
   "outputs": [
    {
     "name": "stdout",
     "output_type": "stream",
     "text": [
      "expected_length=  9659\n",
      "actual_length=  9659\n"
     ]
    }
   ],
   "source": [
    "print('expected_length= ', len(android)-len(duplicate_app))\n",
    "print('actual_length= ', len(reviews_max))"
   ]
  },
  {
   "cell_type": "markdown",
   "id": "bf71c663",
   "metadata": {},
   "source": [
    "Use the reviews_max dictionary to remove the duplicates. For the duplicate cases, we'll only keep the entries with the highest number of reviews."
   ]
  },
  {
   "cell_type": "code",
   "execution_count": 11,
   "id": "77d6e0ed",
   "metadata": {},
   "outputs": [
    {
     "name": "stdout",
     "output_type": "stream",
     "text": [
      "['Photo Editor & Candy Camera & Grid & ScrapBook', 'ART_AND_DESIGN', '4.1', '159', '19M', '10,000+', 'Free', '0', 'Everyone', 'Art & Design', 'January 7, 2018', '1.0.0', '4.0.3 and up']\n",
      "\n",
      "\n",
      "['U Launcher Lite – FREE Live Cool Themes, Hide Apps', 'ART_AND_DESIGN', '4.7', '87510', '8.7M', '5,000,000+', 'Free', '0', 'Everyone', 'Art & Design', 'August 1, 2018', '1.2.4', '4.0.3 and up']\n",
      "\n",
      "\n",
      "['Sketch - Draw & Paint', 'ART_AND_DESIGN', '4.5', '215644', '25M', '50,000,000+', 'Free', '0', 'Teen', 'Art & Design', 'June 8, 2018', 'Varies with device', '4.2 and up']\n",
      "\n",
      "\n",
      "number of rows:  9659\n",
      "number of columns:  13\n"
     ]
    }
   ],
   "source": [
    "#remove the duplicate rows\n",
    "android_clean=[]\n",
    "already_added=[]\n",
    "for app in android:\n",
    "    name= app[0]\n",
    "    n_reviews= float(app[3])\n",
    "    if name not in already_added and n_reviews== reviews_max[name]:\n",
    "        android_clean.append(app)\n",
    "        already_added.append(name)\n",
    "#Explore the new data set\n",
    "#confirm that the number of rows is 9,659.\n",
    "explore_data(android_clean, 0, 3 , True)    \n"
   ]
  },
  {
   "cell_type": "markdown",
   "id": "0021c28f",
   "metadata": {},
   "source": [
    "# Removing non-english apps\n"
   ]
  },
  {
   "cell_type": "code",
   "execution_count": 12,
   "id": "5d721136",
   "metadata": {},
   "outputs": [
    {
     "name": "stdout",
     "output_type": "stream",
     "text": [
      "中国語 AQリスニング\n",
      "爱奇艺PPS -《欢乐颂2》电视剧热播\n",
      "【脱出ゲーム】絶対に最後までプレイしないで 〜謎解き＆ブロックパズル〜\n"
     ]
    }
   ],
   "source": [
    "#example for app non english\n",
    "print(android_clean[4412][0])#googleplay\n",
    "print(ios[813][1])#appstore\n",
    "print(ios[6731][1])#appstore\n"
   ]
  },
  {
   "cell_type": "markdown",
   "id": "57d2be8d",
   "metadata": {},
   "source": [
    "All these characters that are specific to English texts are encoded using the ASCII standard. Each ASCII character has a corresponding number between 0 and 127 associated with it, and we can take advantage of that to build a function that checks an app name and tells us whether it contains non-ASCII characters.\n",
    "\n"
   ]
  },
  {
   "cell_type": "code",
   "execution_count": 13,
   "id": "3d0afbde",
   "metadata": {},
   "outputs": [
    {
     "name": "stdout",
     "output_type": "stream",
     "text": [
      "True\n",
      "False\n",
      "False\n",
      "False\n"
     ]
    }
   ],
   "source": [
    "def is_english(name):\n",
    "    for character in name:\n",
    "        if ord(character)>127:\n",
    "            return False\n",
    "    return True\n",
    "print(is_english('Instagram'))\n",
    "print(is_english('爱奇艺PPS -《欢乐颂2》电视剧热播'))\n",
    "print(is_english('Docs To Go™ Free Office Suite'))\n",
    "print(is_english('Instachat 😜'))\n"
   ]
  },
  {
   "cell_type": "markdown",
   "id": "3a95f68e",
   "metadata": {},
   "source": [
    "To minimize the impact of data loss, we'll only remove an app if its name has more than three characters with corresponding numbers falling outside the ASCII range."
   ]
  },
  {
   "cell_type": "code",
   "execution_count": 14,
   "id": "41848e9d",
   "metadata": {},
   "outputs": [
    {
     "name": "stdout",
     "output_type": "stream",
     "text": [
      "True\n",
      "True\n",
      "False\n"
     ]
    }
   ],
   "source": [
    "def check_english(name):\n",
    "    count=0\n",
    "    for character in name:\n",
    "        if ord(character)>127:\n",
    "            count+=1\n",
    "    if count>3:\n",
    "        return False\n",
    "    return True\n",
    "print(check_english('Docs To Go™ Free Office Suite'))\n",
    "print(check_english('Instachat 😜'))\n",
    "print(check_english('爱奇艺PPS -《欢乐颂2》电视剧热播'))\n"
   ]
  },
  {
   "cell_type": "code",
   "execution_count": 15,
   "id": "51bd11bd",
   "metadata": {},
   "outputs": [
    {
     "name": "stdout",
     "output_type": "stream",
     "text": [
      "['Photo Editor & Candy Camera & Grid & ScrapBook', 'ART_AND_DESIGN', '4.1', '159', '19M', '10,000+', 'Free', '0', 'Everyone', 'Art & Design', 'January 7, 2018', '1.0.0', '4.0.3 and up']\n",
      "\n",
      "\n",
      "['U Launcher Lite – FREE Live Cool Themes, Hide Apps', 'ART_AND_DESIGN', '4.7', '87510', '8.7M', '5,000,000+', 'Free', '0', 'Everyone', 'Art & Design', 'August 1, 2018', '1.2.4', '4.0.3 and up']\n",
      "\n",
      "\n",
      "['Sketch - Draw & Paint', 'ART_AND_DESIGN', '4.5', '215644', '25M', '50,000,000+', 'Free', '0', 'Teen', 'Art & Design', 'June 8, 2018', 'Varies with device', '4.2 and up']\n",
      "\n",
      "\n",
      "['Pixel Draw - Number Art Coloring Book', 'ART_AND_DESIGN', '4.3', '967', '2.8M', '100,000+', 'Free', '0', 'Everyone', 'Art & Design;Creativity', 'June 20, 2018', '1.1', '4.4 and up']\n",
      "\n",
      "\n",
      "['Paper flowers instructions', 'ART_AND_DESIGN', '4.4', '167', '5.6M', '50,000+', 'Free', '0', 'Everyone', 'Art & Design', 'March 26, 2017', '1.0', '2.3 and up']\n",
      "\n",
      "\n",
      "number of rows:  9614\n",
      "number of columns:  13\n",
      "['284882215', 'Facebook', '389879808', 'USD', '0.0', '2974676', '212', '3.5', '3.5', '95.0', '4+', 'Social Networking', '37', '1', '29', '1']\n",
      "\n",
      "\n",
      "['389801252', 'Instagram', '113954816', 'USD', '0.0', '2161558', '1289', '4.5', '4.0', '10.23', '12+', 'Photo & Video', '37', '0', '29', '1']\n",
      "\n",
      "\n",
      "['529479190', 'Clash of Clans', '116476928', 'USD', '0.0', '2130805', '579', '4.5', '4.5', '9.24.12', '9+', 'Games', '38', '5', '18', '1']\n",
      "\n",
      "\n",
      "['420009108', 'Temple Run', '65921024', 'USD', '0.0', '1724546', '3842', '4.5', '4.0', '1.6.2', '9+', 'Games', '40', '5', '1', '1']\n",
      "\n",
      "\n",
      "['284035177', 'Pandora - Music & Radio', '130242560', 'USD', '0.0', '1126879', '3594', '4.0', '4.5', '8.4.1', '12+', 'Music', '37', '4', '1', '1']\n",
      "\n",
      "\n",
      "number of rows:  6183\n",
      "number of columns:  16\n"
     ]
    }
   ],
   "source": [
    "android_eng= []\n",
    "ios_eng=[]\n",
    "for app in android_clean:\n",
    "    name= app[0]\n",
    "    if check_english(name):\n",
    "        android_eng.append(app)\n",
    "for app in ios:\n",
    "    name= app[1]\n",
    "    if check_english(name):\n",
    "        ios_eng.append(app)\n",
    "explore_data(android_eng, 0, 5, True)\n",
    "explore_data(ios_eng, 0, 5, True)\n"
   ]
  },
  {
   "cell_type": "markdown",
   "id": "21157c69",
   "metadata": {},
   "source": [
    "=> We're left with 9614 android apps and 6183 ios apps"
   ]
  },
  {
   "cell_type": "markdown",
   "id": "7d96ea35",
   "metadata": {},
   "source": [
    "# ISOLATING THE FREE APPS"
   ]
  },
  {
   "cell_type": "markdown",
   "id": "fa98da4b",
   "metadata": {},
   "source": [
    "Our datasets contain both free and non-free apps; we'll need to isolate only the free apps for our analysis.\n",
    "Isolating the free apps will be our last step in the data cleaning process"
   ]
  },
  {
   "cell_type": "code",
   "execution_count": 16,
   "id": "567c3ea9",
   "metadata": {},
   "outputs": [
    {
     "name": "stdout",
     "output_type": "stream",
     "text": [
      "['App', 'Category', 'Rating', 'Reviews', 'Size', 'Installs', 'Type', 'Price', 'Content Rating', 'Genres', 'Last Updated', 'Current Ver', 'Android Ver']\n"
     ]
    }
   ],
   "source": [
    "print(android_header)"
   ]
  },
  {
   "cell_type": "code",
   "execution_count": 17,
   "id": "2545444e",
   "metadata": {},
   "outputs": [
    {
     "name": "stdout",
     "output_type": "stream",
     "text": [
      "8864\n",
      "3222\n"
     ]
    }
   ],
   "source": [
    "android_final=[]\n",
    "ios_final=[]\n",
    "\n",
    "for app in android_eng:\n",
    "    price= app[7]\n",
    "    if price =='0':\n",
    "        android_final.append(app)\n",
    "for app in ios_eng:\n",
    "    price= app[4]\n",
    "    if price =='0.0':\n",
    "        ios_final.append(app)\n",
    "print(len(android_final))\n",
    "\n",
    "print(len(ios_final))\n"
   ]
  },
  {
   "cell_type": "markdown",
   "id": "7f805747",
   "metadata": {},
   "source": [
    "=> We're left with 8864 Android apps, 3222 iOS apps"
   ]
  },
  {
   "cell_type": "markdown",
   "id": "b50cfb48",
   "metadata": {},
   "source": [
    "# Most Common Apps by Genre"
   ]
  },
  {
   "cell_type": "markdown",
   "id": "2b7b787f",
   "metadata": {},
   "source": [
    "Determine the kinds of apps that are likely to attract more users because our revenue is highly influenced by the number of people using our apps\n",
    "To minimize risks and overhead, our validation strategy for an app idea is comprised of three steps:\n",
    "\n",
    "Build a minimal Android version of the app, and add it to Google Play.\n",
    "If the app has a good response from users, we develop it further.\n",
    "If the app is profitable after six months, we build an iOS version of the app and add it to the App Store.\n",
    "Because our end goal is to add the app on both Google Play and the App Store, we need to find app profiles that are successful on both markets. For instance, a profile that works well for both markets might be a productivity app that makes use of gamification.\n"
   ]
  },
  {
   "cell_type": "code",
   "execution_count": 18,
   "id": "2e1b7847",
   "metadata": {},
   "outputs": [
    {
     "name": "stdout",
     "output_type": "stream",
     "text": [
      "['App', 'Category', 'Rating', 'Reviews', 'Size', 'Installs', 'Type', 'Price', 'Content Rating', 'Genres', 'Last Updated', 'Current Ver', 'Android Ver']\n"
     ]
    }
   ],
   "source": [
    "print(android_header)"
   ]
  },
  {
   "cell_type": "markdown",
   "id": "e10abfb5",
   "metadata": {},
   "source": [
    "We'll build two functions we can use to analyze the frequency tables:\n",
    "\n",
    "- One function to generate frequency tables that show percentages\n",
    "- Another function that we can use to display the percentages in a descending order\n",
    "    "
   ]
  },
  {
   "cell_type": "code",
   "execution_count": 19,
   "id": "3fef2898",
   "metadata": {},
   "outputs": [],
   "source": [
    "def freq_table(dataset, index):\n",
    "    table={}\n",
    "    total=0\n",
    "    for app in dataset:\n",
    "        total+=1\n",
    "        key= app[index]\n",
    "        if key in table:\n",
    "            table[key]+=1\n",
    "        else:\n",
    "            table[key]=1\n",
    "    table_percentage={}\n",
    "    for key in table:\n",
    "        percentage= (table[key]/total)* 100\n",
    "        table_percentage[key]= percentage\n",
    "    return table_percentage\n",
    "\n",
    "def table_display(dataset, index):\n",
    "    display_table=[]\n",
    "    table_percentage= freq_table(dataset, index)\n",
    "    for key in table_percentage:\n",
    "        val_tuple= (table_percentage[key], key)\n",
    "        display_table.append(val_tuple)\n",
    "    table_sorted= sorted(display_table, reverse= True)\n",
    "    for entry in table_sorted:\n",
    "        print(entry[1], ':', entry[0])"
   ]
  },
  {
   "cell_type": "markdown",
   "id": "e4761bb1",
   "metadata": {},
   "source": [
    "Examining the frequency table for the prime_genre column of the App Store data set."
   ]
  },
  {
   "cell_type": "code",
   "execution_count": 20,
   "id": "3058a9c6",
   "metadata": {},
   "outputs": [
    {
     "name": "stdout",
     "output_type": "stream",
     "text": [
      "Games : 58.16263190564867\n",
      "Entertainment : 7.883302296710118\n",
      "Photo & Video : 4.9658597144630665\n",
      "Education : 3.662321539416512\n",
      "Social Networking : 3.2898820608317814\n",
      "Shopping : 2.60707635009311\n",
      "Utilities : 2.5139664804469275\n",
      "Sports : 2.1415270018621975\n",
      "Music : 2.0484171322160147\n",
      "Health & Fitness : 2.0173805090006205\n",
      "Productivity : 1.7380509000620732\n",
      "Lifestyle : 1.5828677839851024\n",
      "News : 1.3345747982619491\n",
      "Travel : 1.2414649286157666\n",
      "Finance : 1.1173184357541899\n",
      "Weather : 0.8690254500310366\n",
      "Food & Drink : 0.8069522036002483\n",
      "Reference : 0.5586592178770949\n",
      "Business : 0.5276225946617008\n",
      "Book : 0.4345127250155183\n",
      "Navigation : 0.186219739292365\n",
      "Medical : 0.186219739292365\n",
      "Catalogs : 0.12414649286157665\n"
     ]
    }
   ],
   "source": [
    "table_display(ios_final, -5)#prime_genre"
   ]
  },
  {
   "cell_type": "markdown",
   "id": "821f5b07",
   "metadata": {},
   "source": [
    "=> Among free English apps, more than a haft (58.16%) are games. Entertainment apps are close to 8%, followed by photo and video apps, which are close to 5%. \n",
    "Only 3.66% of the apps are desingned for education, followed by social networking apps which amount for 3.29% of apps in our dataset\n",
    "The general impression is that App Store (at least the part containing free English apps) is dominated by apps that are designed for fun (games, entertainment, photo and video, social networking, sports, music, etc.), while apps with practical purposes (education, shopping, utilities, productivity, lifestyle, etc.) are more rare. However, the fact that fun apps are the most numerous doesn't also imply that they also have the greatest number of users — the demand might not be the same as the offer."
   ]
  },
  {
   "cell_type": "markdown",
   "id": "175d5148",
   "metadata": {},
   "source": [
    "Examining the Genres and Category columns of the Google Play data set (two columns which seem to be related)."
   ]
  },
  {
   "cell_type": "code",
   "execution_count": 21,
   "id": "8e703cd1",
   "metadata": {},
   "outputs": [
    {
     "name": "stdout",
     "output_type": "stream",
     "text": [
      "FAMILY : 18.907942238267147\n",
      "GAME : 9.724729241877256\n",
      "TOOLS : 8.461191335740072\n",
      "BUSINESS : 4.591606498194946\n",
      "LIFESTYLE : 3.9034296028880866\n",
      "PRODUCTIVITY : 3.892148014440433\n",
      "FINANCE : 3.7003610108303246\n",
      "MEDICAL : 3.531137184115524\n",
      "SPORTS : 3.395758122743682\n",
      "PERSONALIZATION : 3.3167870036101084\n",
      "COMMUNICATION : 3.2378158844765346\n",
      "HEALTH_AND_FITNESS : 3.0798736462093865\n",
      "PHOTOGRAPHY : 2.944494584837545\n",
      "NEWS_AND_MAGAZINES : 2.7978339350180503\n",
      "SOCIAL : 2.6624548736462095\n",
      "TRAVEL_AND_LOCAL : 2.33528880866426\n",
      "SHOPPING : 2.2450361010830324\n",
      "BOOKS_AND_REFERENCE : 2.1435018050541514\n",
      "DATING : 1.861462093862816\n",
      "VIDEO_PLAYERS : 1.7937725631768955\n",
      "MAPS_AND_NAVIGATION : 1.3989169675090252\n",
      "FOOD_AND_DRINK : 1.2409747292418771\n",
      "EDUCATION : 1.1620036101083033\n",
      "ENTERTAINMENT : 0.9589350180505415\n",
      "LIBRARIES_AND_DEMO : 0.9363718411552346\n",
      "AUTO_AND_VEHICLES : 0.9250902527075812\n",
      "HOUSE_AND_HOME : 0.8235559566787004\n",
      "WEATHER : 0.8009927797833934\n",
      "EVENTS : 0.7107400722021661\n",
      "PARENTING : 0.6543321299638989\n",
      "ART_AND_DESIGN : 0.6430505415162455\n",
      "COMICS : 0.6204873646209386\n",
      "BEAUTY : 0.5979241877256317\n"
     ]
    }
   ],
   "source": [
    "table_display(android_final, 1)#category"
   ]
  },
  {
   "cell_type": "markdown",
   "id": "46ae1826",
   "metadata": {},
   "source": [
    "=> The landscape seems significantly different on Google Play: there are not that many apps designed for fun, and it seems that a good number of apps are designed for practical purposes (family, tools, business, lifestyle, productivity, etc.). However, if we investigate this further, we can see that the family category (which accounts for almost 19% of the apps) means mostly games for kids."
   ]
  },
  {
   "cell_type": "code",
   "execution_count": 22,
   "id": "f5f5b537",
   "metadata": {},
   "outputs": [
    {
     "name": "stdout",
     "output_type": "stream",
     "text": [
      "Tools : 8.449909747292418\n",
      "Entertainment : 6.069494584837545\n",
      "Education : 5.347472924187725\n",
      "Business : 4.591606498194946\n",
      "Productivity : 3.892148014440433\n",
      "Lifestyle : 3.892148014440433\n",
      "Finance : 3.7003610108303246\n",
      "Medical : 3.531137184115524\n",
      "Sports : 3.463447653429603\n",
      "Personalization : 3.3167870036101084\n",
      "Communication : 3.2378158844765346\n",
      "Action : 3.1024368231046933\n",
      "Health & Fitness : 3.0798736462093865\n",
      "Photography : 2.944494584837545\n",
      "News & Magazines : 2.7978339350180503\n",
      "Social : 2.6624548736462095\n",
      "Travel & Local : 2.3240072202166067\n",
      "Shopping : 2.2450361010830324\n",
      "Books & Reference : 2.1435018050541514\n",
      "Simulation : 2.0419675090252705\n",
      "Dating : 1.861462093862816\n",
      "Arcade : 1.8501805054151623\n",
      "Video Players & Editors : 1.7712093862815883\n",
      "Casual : 1.7599277978339352\n",
      "Maps & Navigation : 1.3989169675090252\n",
      "Food & Drink : 1.2409747292418771\n",
      "Puzzle : 1.128158844765343\n",
      "Racing : 0.9927797833935018\n",
      "Role Playing : 0.9363718411552346\n",
      "Libraries & Demo : 0.9363718411552346\n",
      "Auto & Vehicles : 0.9250902527075812\n",
      "Strategy : 0.9138086642599278\n",
      "House & Home : 0.8235559566787004\n",
      "Weather : 0.8009927797833934\n",
      "Events : 0.7107400722021661\n",
      "Adventure : 0.6768953068592057\n",
      "Comics : 0.6092057761732852\n",
      "Beauty : 0.5979241877256317\n",
      "Art & Design : 0.5979241877256317\n",
      "Parenting : 0.4963898916967509\n",
      "Card : 0.45126353790613716\n",
      "Casino : 0.42870036101083037\n",
      "Trivia : 0.41741877256317694\n",
      "Educational;Education : 0.39485559566787\n",
      "Board : 0.3835740072202166\n",
      "Educational : 0.3722924187725632\n",
      "Education;Education : 0.33844765342960287\n",
      "Word : 0.2594765342960289\n",
      "Casual;Pretend Play : 0.236913357400722\n",
      "Music : 0.2030685920577617\n",
      "Racing;Action & Adventure : 0.16922382671480143\n",
      "Puzzle;Brain Games : 0.16922382671480143\n",
      "Entertainment;Music & Video : 0.16922382671480143\n",
      "Casual;Brain Games : 0.13537906137184114\n",
      "Casual;Action & Adventure : 0.13537906137184114\n",
      "Arcade;Action & Adventure : 0.12409747292418773\n",
      "Action;Action & Adventure : 0.10153429602888085\n",
      "Educational;Pretend Play : 0.09025270758122744\n",
      "Simulation;Action & Adventure : 0.078971119133574\n",
      "Parenting;Education : 0.078971119133574\n",
      "Entertainment;Brain Games : 0.078971119133574\n",
      "Board;Brain Games : 0.078971119133574\n",
      "Parenting;Music & Video : 0.06768953068592057\n",
      "Educational;Brain Games : 0.06768953068592057\n",
      "Casual;Creativity : 0.06768953068592057\n",
      "Art & Design;Creativity : 0.06768953068592057\n",
      "Education;Pretend Play : 0.056407942238267145\n",
      "Role Playing;Pretend Play : 0.04512635379061372\n",
      "Education;Creativity : 0.04512635379061372\n",
      "Role Playing;Action & Adventure : 0.033844765342960284\n",
      "Puzzle;Action & Adventure : 0.033844765342960284\n",
      "Entertainment;Creativity : 0.033844765342960284\n",
      "Entertainment;Action & Adventure : 0.033844765342960284\n",
      "Educational;Creativity : 0.033844765342960284\n",
      "Educational;Action & Adventure : 0.033844765342960284\n",
      "Education;Music & Video : 0.033844765342960284\n",
      "Education;Brain Games : 0.033844765342960284\n",
      "Education;Action & Adventure : 0.033844765342960284\n",
      "Adventure;Action & Adventure : 0.033844765342960284\n",
      "Video Players & Editors;Music & Video : 0.02256317689530686\n",
      "Sports;Action & Adventure : 0.02256317689530686\n",
      "Simulation;Pretend Play : 0.02256317689530686\n",
      "Puzzle;Creativity : 0.02256317689530686\n",
      "Music;Music & Video : 0.02256317689530686\n",
      "Entertainment;Pretend Play : 0.02256317689530686\n",
      "Casual;Education : 0.02256317689530686\n",
      "Board;Action & Adventure : 0.02256317689530686\n",
      "Video Players & Editors;Creativity : 0.01128158844765343\n",
      "Trivia;Education : 0.01128158844765343\n",
      "Travel & Local;Action & Adventure : 0.01128158844765343\n",
      "Tools;Education : 0.01128158844765343\n",
      "Strategy;Education : 0.01128158844765343\n",
      "Strategy;Creativity : 0.01128158844765343\n",
      "Strategy;Action & Adventure : 0.01128158844765343\n",
      "Simulation;Education : 0.01128158844765343\n",
      "Role Playing;Brain Games : 0.01128158844765343\n",
      "Racing;Pretend Play : 0.01128158844765343\n",
      "Puzzle;Education : 0.01128158844765343\n",
      "Parenting;Brain Games : 0.01128158844765343\n",
      "Music & Audio;Music & Video : 0.01128158844765343\n",
      "Lifestyle;Pretend Play : 0.01128158844765343\n",
      "Lifestyle;Education : 0.01128158844765343\n",
      "Health & Fitness;Education : 0.01128158844765343\n",
      "Health & Fitness;Action & Adventure : 0.01128158844765343\n",
      "Entertainment;Education : 0.01128158844765343\n",
      "Communication;Creativity : 0.01128158844765343\n",
      "Comics;Creativity : 0.01128158844765343\n",
      "Casual;Music & Video : 0.01128158844765343\n",
      "Card;Action & Adventure : 0.01128158844765343\n",
      "Books & Reference;Education : 0.01128158844765343\n",
      "Art & Design;Pretend Play : 0.01128158844765343\n",
      "Art & Design;Action & Adventure : 0.01128158844765343\n",
      "Arcade;Pretend Play : 0.01128158844765343\n",
      "Adventure;Education : 0.01128158844765343\n"
     ]
    }
   ],
   "source": [
    "table_display(android_final, -4) #Gernes"
   ]
  },
  {
   "cell_type": "markdown",
   "id": "44ba939c",
   "metadata": {},
   "source": [
    "=> The difference between the Genres and the Category columns is not crystal clear, but one thing we can notice is that the Genres column is much more granular (it has more categories). We're only looking for the bigger picture at the moment, so we'll only work with the Category column moving forward.\n",
    "\n",
    "Up to this point, we found that the App Store is dominated by apps designed for fun, while Google Play shows a more balanced landscape of both practical and for-fun apps. Now we'd like to get an idea about the kind of apps that have most users."
   ]
  },
  {
   "cell_type": "markdown",
   "id": "69fc4f19",
   "metadata": {},
   "source": [
    "# Most Popular Apps by Genre on the App Store"
   ]
  },
  {
   "cell_type": "markdown",
   "id": "2d652386",
   "metadata": {},
   "source": [
    "One way to find out what genres are the most popular (have the most users) is to calculate the average number of installs for each app genre.\n",
    "- Google Play data set: Install column \n",
    "- App Store data set: Information for Install column is missing=> we'll take the total number of user ratings --> we can find in  rating_count_tot app\n"
   ]
  },
  {
   "cell_type": "code",
   "execution_count": 23,
   "id": "2351d83e",
   "metadata": {},
   "outputs": [
    {
     "name": "stdout",
     "output_type": "stream",
     "text": [
      "['App', 'Category', 'Rating', 'Reviews', 'Size', 'Installs', 'Type', 'Price', 'Content Rating', 'Genres', 'Last Updated', 'Current Ver', 'Android Ver']\n",
      "\n",
      "\n",
      "['id', 'track_name', 'size_bytes', 'currency', 'price', 'rating_count_tot', 'rating_count_ver', 'user_rating', 'user_rating_ver', 'ver', 'cont_rating', 'prime_genre', 'sup_devices.num', 'ipadSc_urls.num', 'lang.num', 'vpp_lic']\n"
     ]
    }
   ],
   "source": [
    "print(android_header)\n",
    "print('\\n')\n",
    "print(ios_header)"
   ]
  },
  {
   "cell_type": "code",
   "execution_count": 24,
   "id": "5e73c50c",
   "metadata": {},
   "outputs": [
    {
     "name": "stdout",
     "output_type": "stream",
     "text": [
      "Navigation : 86090.33333333333\n",
      "Reference : 74942.11111111111\n",
      "Social Networking : 71548.34905660378\n",
      "Music : 57326.530303030304\n",
      "Weather : 52279.892857142855\n",
      "Book : 39758.5\n",
      "Food & Drink : 33333.92307692308\n",
      "Finance : 31467.944444444445\n",
      "Photo & Video : 28441.54375\n",
      "Travel : 28243.8\n",
      "Shopping : 26919.690476190477\n",
      "Health & Fitness : 23298.015384615384\n",
      "Sports : 23008.898550724636\n",
      "Games : 22788.6696905016\n",
      "News : 21248.023255813954\n",
      "Productivity : 21028.410714285714\n",
      "Utilities : 18684.456790123455\n",
      "Lifestyle : 16485.764705882353\n",
      "Entertainment : 14029.830708661417\n",
      "Business : 7491.117647058823\n",
      "Education : 7003.983050847458\n",
      "Catalogs : 4004.0\n",
      "Medical : 612.0\n"
     ]
    }
   ],
   "source": [
    "#calculate the average number of user ratings per app genre on the app store\n",
    "genres_ios= freq_table(ios_final, -5)\n",
    "#print(genres_ios) #table percentage\n",
    "display=[]\n",
    "\n",
    "for genre in genres_ios:\n",
    "    total=0\n",
    "    len_genre=0\n",
    "    for app in ios_final:\n",
    "        genres_app= app[-5]\n",
    "        if genres_app == genre:\n",
    "            total+= float(app[5])\n",
    "            len_genre+=1\n",
    "    avg_rating= total/len_genre\n",
    "   # print(genre, ':', avg_rating)\n",
    "    list_val_tuple=(avg_rating, genre)\n",
    "    display.append(list_val_tuple)\n",
    "tbl_sorted= sorted(display, reverse= True)\n",
    "for value in tbl_sorted:\n",
    "    print(value[1], ':', value[0])\n",
    "            "
   ]
  },
  {
   "cell_type": "markdown",
   "id": "29ae67ab",
   "metadata": {},
   "source": [
    "=> On average, navigation apps have the highest number of user reviews, but this figure is heavily influenced by Waze and Google Maps, which have close to half a million user reviews together"
   ]
  },
  {
   "cell_type": "code",
   "execution_count": 25,
   "id": "190b5c2d",
   "metadata": {},
   "outputs": [
    {
     "name": "stdout",
     "output_type": "stream",
     "text": [
      "Waze - GPS Navigation, Maps & Real-time Traffic :  345046\n",
      "Google Maps - Navigation & Transit :  154911\n",
      "Geocaching® :  12811\n",
      "CoPilot GPS – Car Navigation & Offline Maps :  3582\n",
      "ImmobilienScout24: Real Estate Search in Germany :  187\n",
      "Railway Route Search :  5\n"
     ]
    }
   ],
   "source": [
    "for app in ios_final:\n",
    "    if app[-5]=='Navigation':\n",
    "        print(app[1], ': ', app[5])#print name : rating"
   ]
  },
  {
   "cell_type": "markdown",
   "id": "65d69c57",
   "metadata": {},
   "source": [
    "The same pattern applies to social networking apps, where the average number is heavily influenced by a few giants like Facebook, Pinterest, Skype, etc. Same applies to music apps, where a few big players like Pandora, Spotify, and Shazam heavily influence the average number."
   ]
  },
  {
   "cell_type": "code",
   "execution_count": 26,
   "id": "cec291a8",
   "metadata": {},
   "outputs": [
    {
     "name": "stdout",
     "output_type": "stream",
     "text": [
      "Facebook :  2974676\n",
      "Pinterest :  1061624\n",
      "Skype for iPhone :  373519\n",
      "Messenger :  351466\n",
      "Tumblr :  334293\n",
      "WhatsApp Messenger :  287589\n",
      "Kik :  260965\n",
      "ooVoo – Free Video Call, Text and Voice :  177501\n",
      "TextNow - Unlimited Text + Calls :  164963\n",
      "Viber Messenger – Text & Call :  164249\n",
      "Followers - Social Analytics For Instagram :  112778\n",
      "MeetMe - Chat and Meet New People :  97072\n",
      "We Heart It - Fashion, wallpapers, quotes, tattoos :  90414\n",
      "InsTrack for Instagram - Analytics Plus More :  85535\n",
      "Tango - Free Video Call, Voice and Chat :  75412\n",
      "LinkedIn :  71856\n",
      "Match™ - #1 Dating App. :  60659\n",
      "Skype for iPad :  60163\n",
      "POF - Best Dating App for Conversations :  52642\n",
      "Timehop :  49510\n",
      "Find My Family, Friends & iPhone - Life360 Locator :  43877\n",
      "Whisper - Share, Express, Meet :  39819\n",
      "Hangouts :  36404\n",
      "LINE PLAY - Your Avatar World :  34677\n",
      "WeChat :  34584\n",
      "Badoo - Meet New People, Chat, Socialize. :  34428\n",
      "Followers + for Instagram - Follower Analytics :  28633\n",
      "GroupMe :  28260\n",
      "Marco Polo Video Walkie Talkie :  27662\n",
      "Miitomo :  23965\n",
      "SimSimi :  23530\n",
      "Grindr - Gay and same sex guys chat, meet and date :  23201\n",
      "Wishbone - Compare Anything :  20649\n",
      "imo video calls and chat :  18841\n",
      "After School - Funny Anonymous School News :  18482\n",
      "Quick Reposter - Repost, Regram and Reshare Photos :  17694\n",
      "Weibo HD :  16772\n",
      "Repost for Instagram :  15185\n",
      "Live.me – Live Video Chat & Make Friends Nearby :  14724\n",
      "Nextdoor :  14402\n",
      "Followers Analytics for Instagram - InstaReport :  13914\n",
      "YouNow: Live Stream Video Chat :  12079\n",
      "FollowMeter for Instagram - Followers Tracking :  11976\n",
      "LINE :  11437\n",
      "eHarmony™ Dating App - Meet Singles :  11124\n",
      "Discord - Chat for Gamers :  9152\n",
      "QQ :  9109\n",
      "Telegram Messenger :  7573\n",
      "Weibo :  7265\n",
      "Periscope - Live Video Streaming Around the World :  6062\n",
      "Chat for Whatsapp - iPad Version :  5060\n",
      "QQ HD :  5058\n",
      "Followers Analysis Tool For Instagram App Free :  4253\n",
      "live.ly - live video streaming :  4145\n",
      "Houseparty - Group Video Chat :  3991\n",
      "SOMA Messenger :  3232\n",
      "Monkey :  3060\n",
      "Down To Lunch :  2535\n",
      "Flinch - Video Chat Staring Contest :  2134\n",
      "Highrise - Your Avatar Community :  2011\n",
      "LOVOO - Dating Chat :  1985\n",
      "PlayStation®Messages :  1918\n",
      "BOO! - Video chat camera with filters & stickers :  1805\n",
      "Qzone :  1649\n",
      "Chatous - Chat with new people :  1609\n",
      "Kiwi - Q&A :  1538\n",
      "GhostCodes - a discovery app for Snapchat :  1313\n",
      "Jodel :  1193\n",
      "FireChat :  1037\n",
      "Google Duo - simple video calling :  1033\n",
      "Fiesta by Tango - Chat & Meet New People :  885\n",
      "Google Allo — smart messaging :  862\n",
      "Peach — share vividly :  727\n",
      "Hey! VINA - Where Women Meet New Friends :  719\n",
      "Battlefield™ Companion :  689\n",
      "All Devices for WhatsApp - Messenger for iPad :  682\n",
      "Chat for Pokemon Go - GoChat :  500\n",
      "IAmNaughty – Dating App to Meet New People Online :  463\n",
      "Qzone HD :  458\n",
      "Zenly - Locate your friends in realtime :  427\n",
      "League of Legends Friends :  420\n",
      "豆瓣 :  407\n",
      "Candid - Speak Your Mind Freely :  398\n",
      "知乎 :  397\n",
      "Selfeo :  366\n",
      "Fake-A-Location Free ™ :  354\n",
      "Popcorn Buzz - Free Group Calls :  281\n",
      "Fam — Group video calling for iMessage :  279\n",
      "QQ International :  274\n",
      "Ameba :  269\n",
      "SoundCloud Pulse: for creators :  240\n",
      "Tantan :  235\n",
      "Cougar Dating & Life Style App for Mature Women :  213\n",
      "Rawr Messenger - Dab your chat :  180\n",
      "WhenToPost: Best Time to Post Photos for Instagram :  158\n",
      "Inke—Broadcast an amazing life :  147\n",
      "Mustknow - anonymous video Q&A :  53\n",
      "CTFxCmoji :  39\n",
      "Lobi :  36\n",
      "Chain: Collaborate On MyVideo Story/Group Video :  35\n",
      "botman - Real time video chat :  7\n",
      "BestieBox :  0\n",
      "MATCH ON LINE chat :  0\n",
      "niconico ch :  0\n",
      "LINE BLOG :  0\n",
      "bit-tube - Live Stream Video Chat :  0\n"
     ]
    }
   ],
   "source": [
    "for app in ios_final:\n",
    "    if app[-5]=='Social Networking':\n",
    "        print(app[1], ': ', app[5])"
   ]
  },
  {
   "cell_type": "markdown",
   "id": "1fadd992",
   "metadata": {},
   "source": [
    "Reference apps have 74,942 user ratings on average, but it's actually the Bible and Dictionary.com which skew up the average rating:"
   ]
  },
  {
   "cell_type": "code",
   "execution_count": 27,
   "id": "c0835f96",
   "metadata": {},
   "outputs": [
    {
     "name": "stdout",
     "output_type": "stream",
     "text": [
      "Bible : 985920\n",
      "Dictionary.com Dictionary & Thesaurus : 200047\n",
      "Dictionary.com Dictionary & Thesaurus for iPad : 54175\n",
      "Google Translate : 26786\n",
      "Muslim Pro: Ramadan 2017 Prayer Times, Azan, Quran : 18418\n",
      "New Furniture Mods - Pocket Wiki & Game Tools for Minecraft PC Edition : 17588\n",
      "Merriam-Webster Dictionary : 16849\n",
      "Night Sky : 12122\n",
      "City Maps for Minecraft PE - The Best Maps for Minecraft Pocket Edition (MCPE) : 8535\n",
      "LUCKY BLOCK MOD ™ for Minecraft PC Edition - The Best Pocket Wiki & Mods Installer Tools : 4693\n",
      "GUNS MODS for Minecraft PC Edition - Mods Tools : 1497\n",
      "Guides for Pokémon GO - Pokemon GO News and Cheats : 826\n",
      "WWDC : 762\n",
      "Horror Maps for Minecraft PE - Download The Scariest Maps for Minecraft Pocket Edition (MCPE) Free : 718\n",
      "VPN Express : 14\n",
      "Real Bike Traffic Rider Virtual Reality Glasses : 8\n",
      "教えて!goo : 0\n",
      "Jishokun-Japanese English Dictionary & Translator : 0\n"
     ]
    }
   ],
   "source": [
    "for app in ios_final:\n",
    "    if app[-5] == 'Reference':\n",
    "        print(app[1], ':', app[5])"
   ]
  },
  {
   "cell_type": "markdown",
   "id": "b8125d5b",
   "metadata": {},
   "source": [
    "However, this niche seems to show some potential. One thing we could do is take another popular book and turn it into an app where we could add different features besides the raw version of the book. This might include daily quotes from the book, an audio version of the book, quizzes about the book, etc. On top of that, we could also embed a dictionary within the app, so users don't need to exit our app to look up words in an external app.\n",
    "This idea seems to fit well with the fact that the App Store is dominated by for-fun apps. This suggests the market might be a bit saturated with for-fun apps, which means a practical app might have more of a chance to stand out among the huge number of apps on the App Store."
   ]
  },
  {
   "cell_type": "markdown",
   "id": "1d9c3f73",
   "metadata": {},
   "source": [
    "# Most Popular Apps by Genre on Google Play"
   ]
  },
  {
   "cell_type": "code",
   "execution_count": 28,
   "id": "995abf26",
   "metadata": {},
   "outputs": [
    {
     "name": "stdout",
     "output_type": "stream",
     "text": [
      "['App', 'Category', 'Rating', 'Reviews', 'Size', 'Installs', 'Type', 'Price', 'Content Rating', 'Genres', 'Last Updated', 'Current Ver', 'Android Ver']\n"
     ]
    }
   ],
   "source": [
    "print(android_header)"
   ]
  },
  {
   "cell_type": "code",
   "execution_count": 29,
   "id": "ed813792",
   "metadata": {},
   "outputs": [
    {
     "name": "stdout",
     "output_type": "stream",
     "text": [
      "1,000,000+ : 15.726534296028879\n",
      "100,000+ : 11.552346570397113\n",
      "10,000,000+ : 10.548285198555957\n",
      "10,000+ : 10.198555956678701\n",
      "1,000+ : 8.393501805054152\n",
      "100+ : 6.915613718411552\n",
      "5,000,000+ : 6.825361010830325\n",
      "500,000+ : 5.561823104693141\n",
      "50,000+ : 4.7721119133574\n",
      "5,000+ : 4.512635379061372\n",
      "10+ : 3.5424187725631766\n",
      "500+ : 3.2490974729241873\n",
      "50,000,000+ : 2.3014440433213\n",
      "100,000,000+ : 2.1322202166064983\n",
      "50+ : 1.917870036101083\n",
      "5+ : 0.78971119133574\n",
      "1+ : 0.5076714801444043\n",
      "500,000,000+ : 0.2707581227436823\n",
      "1,000,000,000+ : 0.22563176895306858\n",
      "0+ : 0.04512635379061372\n",
      "0 : 0.01128158844765343\n"
     ]
    }
   ],
   "source": [
    "table_display(android_final, 5)#Installs columns"
   ]
  },
  {
   "cell_type": "markdown",
   "id": "67d0a4c3",
   "metadata": {},
   "source": [
    "=> This data is not precise, we don't know whether an app with 100,000+ installs has 100,000 installs, 200,000, or 350,000. However, we don't need very precise data for our purposes — we only want to get an idea which app genres attract the most users, and we don't need perfect precision with respect to the number of users.\n",
    "To perform computations, however, we'll need to convert each install number to float — this means that we need to remove the commas and the plus characters, otherwise the conversion will fail and raise an error. We'll do this directly in the loop below, where we also compute the average number of installs for each genre (category)."
   ]
  },
  {
   "cell_type": "code",
   "execution_count": 30,
   "id": "eadc9147",
   "metadata": {
    "scrolled": true
   },
   "outputs": [
    {
     "name": "stdout",
     "output_type": "stream",
     "text": [
      "COMMUNICATION :  38456119.167247385\n",
      "VIDEO_PLAYERS :  24727872.452830188\n",
      "SOCIAL :  23253652.127118643\n",
      "PHOTOGRAPHY :  17840110.40229885\n",
      "PRODUCTIVITY :  16787331.344927534\n",
      "GAME :  15588015.603248259\n",
      "TRAVEL_AND_LOCAL :  13984077.710144928\n",
      "ENTERTAINMENT :  11640705.88235294\n",
      "TOOLS :  10801391.298666667\n",
      "NEWS_AND_MAGAZINES :  9549178.467741935\n",
      "BOOKS_AND_REFERENCE :  8767811.894736841\n",
      "SHOPPING :  7036877.311557789\n",
      "PERSONALIZATION :  5201482.6122448975\n",
      "WEATHER :  5074486.197183099\n",
      "HEALTH_AND_FITNESS :  4188821.9853479853\n",
      "MAPS_AND_NAVIGATION :  4056941.7741935486\n",
      "FAMILY :  3695641.8198090694\n",
      "SPORTS :  3638640.1428571427\n",
      "ART_AND_DESIGN :  1986335.0877192982\n",
      "FOOD_AND_DRINK :  1924897.7363636363\n",
      "EDUCATION :  1833495.145631068\n",
      "BUSINESS :  1712290.1474201474\n",
      "LIFESTYLE :  1437816.2687861272\n",
      "FINANCE :  1387692.475609756\n",
      "HOUSE_AND_HOME :  1331540.5616438356\n",
      "DATING :  854028.8303030303\n",
      "COMICS :  817657.2727272727\n",
      "AUTO_AND_VEHICLES :  647317.8170731707\n",
      "LIBRARIES_AND_DEMO :  638503.734939759\n",
      "PARENTING :  542603.6206896552\n",
      "BEAUTY :  513151.88679245283\n",
      "EVENTS :  253542.22222222222\n",
      "MEDICAL :  120550.61980830671\n"
     ]
    }
   ],
   "source": [
    "categories_android=freq_table(android_final,1)\n",
    "#print(categories_android)\n",
    "display_tbl=[]\n",
    "for cat in categories_android:\n",
    "    total=0\n",
    "    len_cat=0\n",
    "    for app in android_final:\n",
    "        cat_app= app[1]\n",
    "        if cat_app== cat:\n",
    "            n_installs= app[5]\n",
    "            n_installs= n_installs.replace(',', '')\n",
    "            n_installs= n_installs.replace('+','')\n",
    "            total+= float(n_installs)\n",
    "            len_cat+=1\n",
    "    avg_n_installs= total/len_cat\n",
    "    val_tuple=(avg_n_installs, cat)\n",
    "    display_tbl.append(val_tuple)\n",
    "tbl_sorted=sorted(display_tbl, reverse=True)\n",
    "for entry in tbl_sorted:\n",
    "    print(entry[1],': ', entry[0])"
   ]
  },
  {
   "cell_type": "markdown",
   "id": "6478cb23",
   "metadata": {},
   "source": [
    "=> On average, communication apps have the most installs: 38,456,119. This number is heavily skewed up by a few apps that have over one billion installs (WhatsApp, Facebook Messenger, Skype, Google Chrome, Gmail, and Hangouts), and a few others with over 100 and 500 million installs"
   ]
  },
  {
   "cell_type": "code",
   "execution_count": 31,
   "id": "c2bd67a1",
   "metadata": {},
   "outputs": [
    {
     "name": "stdout",
     "output_type": "stream",
     "text": [
      "WhatsApp Messenger :  1,000,000,000+\n",
      "imo beta free calls and text :  100,000,000+\n",
      "Android Messages :  100,000,000+\n",
      "Google Duo - High Quality Video Calls :  500,000,000+\n",
      "Messenger – Text and Video Chat for Free :  1,000,000,000+\n",
      "imo free video calls and chat :  500,000,000+\n",
      "Skype - free IM & video calls :  1,000,000,000+\n",
      "Who :  100,000,000+\n",
      "GO SMS Pro - Messenger, Free Themes, Emoji :  100,000,000+\n",
      "LINE: Free Calls & Messages :  500,000,000+\n",
      "Google Chrome: Fast & Secure :  1,000,000,000+\n",
      "Firefox Browser fast & private :  100,000,000+\n",
      "UC Browser - Fast Download Private & Secure :  500,000,000+\n",
      "Gmail :  1,000,000,000+\n",
      "Hangouts :  1,000,000,000+\n",
      "Messenger Lite: Free Calls & Messages :  100,000,000+\n",
      "Kik :  100,000,000+\n",
      "KakaoTalk: Free Calls & Text :  100,000,000+\n",
      "Opera Mini - fast web browser :  100,000,000+\n",
      "Opera Browser: Fast and Secure :  100,000,000+\n",
      "Telegram :  100,000,000+\n",
      "Truecaller: Caller ID, SMS spam blocking & Dialer :  100,000,000+\n",
      "UC Browser Mini -Tiny Fast Private & Secure :  100,000,000+\n",
      "Viber Messenger :  500,000,000+\n",
      "WeChat :  100,000,000+\n",
      "Yahoo Mail – Stay Organized :  100,000,000+\n",
      "BBM - Free Calls & Messages :  100,000,000+\n"
     ]
    }
   ],
   "source": [
    "for app in android_final:\n",
    "    if app[1]=='COMMUNICATION' and(app[5]=='1,000,000,000+'  or app[5]=='500,000,000+' or app[5]=='100,000,000+'):\n",
    "        print(app[0],': ', app[5])"
   ]
  },
  {
   "cell_type": "markdown",
   "id": "070392b3",
   "metadata": {},
   "source": [
    "If we removed al the communication apps that have over 100 million installs, the average would be reduced roughly ten times"
   ]
  },
  {
   "cell_type": "code",
   "execution_count": 32,
   "id": "a3e17087",
   "metadata": {},
   "outputs": [
    {
     "name": "stdout",
     "output_type": "stream",
     "text": [
      "3603485.3884615386\n"
     ]
    }
   ],
   "source": [
    "under_100= []\n",
    "for app in android_final:\n",
    "    n_installs= app[5] \n",
    "    n_installs=n_installs.replace('+','')\n",
    "    n_installs=n_installs.replace(',','')\n",
    "    if app[1]=='COMMUNICATION' and (float(n_installs)<100000000):\n",
    "        under_100.append(float(n_installs))\n",
    "print(sum(under_100)/len(under_100))\n"
   ]
  },
  {
   "cell_type": "markdown",
   "id": "8bda1835",
   "metadata": {},
   "source": [
    "We see the same pattern for the video players category, which is the runner-up with 24,727,872 installs. The market is dominated by apps like Youtube, Google Play Movies & TV, or MX Player. The pattern is repeated for social apps (where we have giants like Facebook, Instagram, Google+, etc.), photography apps (Google Photos and other popular photo editors), or productivity apps (Microsoft Word, Dropbox, Google Calendar, Evernote, etc.).\n",
    "\n"
   ]
  },
  {
   "cell_type": "markdown",
   "id": "2b0357f2",
   "metadata": {},
   "source": [
    "The books and reference genre looks fairly popular as well, with an average number of installs of 8,767,811. It's interesting to explore this in more depth, since we found this genre has some potential to work well on the App Store, and our aim is to recommend an app genre that shows potential for being profitable on both the App Store and Google Play.\n",
    "\n"
   ]
  },
  {
   "cell_type": "code",
   "execution_count": 33,
   "id": "367cd90f",
   "metadata": {},
   "outputs": [
    {
     "name": "stdout",
     "output_type": "stream",
     "text": [
      "E-Book Read - Read Book for free :  50,000+\n",
      "Download free book with green book :  100,000+\n",
      "Wikipedia :  10,000,000+\n",
      "Cool Reader :  10,000,000+\n",
      "Free Panda Radio Music :  100,000+\n",
      "Book store :  1,000,000+\n",
      "FBReader: Favorite Book Reader :  10,000,000+\n",
      "English Grammar Complete Handbook :  500,000+\n",
      "Free Books - Spirit Fanfiction and Stories :  1,000,000+\n",
      "Google Play Books :  1,000,000,000+\n",
      "AlReader -any text book reader :  5,000,000+\n",
      "Offline English Dictionary :  100,000+\n",
      "Offline: English to Tagalog Dictionary :  500,000+\n",
      "FamilySearch Tree :  1,000,000+\n",
      "Cloud of Books :  1,000,000+\n",
      "Recipes of Prophetic Medicine for free :  500,000+\n",
      "ReadEra – free ebook reader :  1,000,000+\n",
      "Anonymous caller detection :  10,000+\n",
      "Ebook Reader :  5,000,000+\n",
      "Litnet - E-books :  100,000+\n",
      "Read books online :  5,000,000+\n",
      "English to Urdu Dictionary :  500,000+\n",
      "eBoox: book reader fb2 epub zip :  1,000,000+\n",
      "English Persian Dictionary :  500,000+\n",
      "Flybook :  500,000+\n",
      "All Maths Formulas :  1,000,000+\n",
      "Ancestry :  5,000,000+\n",
      "HTC Help :  10,000,000+\n",
      "English translation from Bengali :  100,000+\n",
      "Pdf Book Download - Read Pdf Book :  100,000+\n",
      "Free Book Reader :  100,000+\n",
      "eBoox new: Reader for fb2 epub zip books :  50,000+\n",
      "Only 30 days in English, the guideline is guaranteed :  500,000+\n",
      "Moon+ Reader :  10,000,000+\n",
      "SH-02J Owner's Manual (Android 8.0) :  50,000+\n",
      "English-Myanmar Dictionary :  1,000,000+\n",
      "Golden Dictionary (EN-AR) :  1,000,000+\n",
      "All Language Translator Free :  1,000,000+\n",
      "Azpen eReader :  500,000+\n",
      "URBANO V 02 instruction manual :  100,000+\n",
      "Bible :  100,000,000+\n",
      "C Programs and Reference :  50,000+\n",
      "C Offline Tutorial :  1,000+\n",
      "C Programs Handbook :  50,000+\n",
      "Amazon Kindle :  100,000,000+\n",
      "Aab e Hayat Full Novel :  100,000+\n",
      "Aldiko Book Reader :  10,000,000+\n",
      "Google I/O 2018 :  500,000+\n",
      "R Language Reference Guide :  10,000+\n",
      "Learn R Programming Full :  5,000+\n",
      "R Programing Offline Tutorial :  1,000+\n",
      "Guide for R Programming :  5+\n",
      "Learn R Programming :  10+\n",
      "R Quick Reference Big Data :  1,000+\n",
      "V Made :  100,000+\n",
      "Wattpad 📖 Free Books :  100,000,000+\n",
      "Dictionary - WordWeb :  5,000,000+\n",
      "Guide (for X-MEN) :  100,000+\n",
      "AC Air condition Troubleshoot,Repair,Maintenance :  5,000+\n",
      "AE Bulletins :  1,000+\n",
      "Ae Allah na Dai (Rasa) :  10,000+\n",
      "50000 Free eBooks & Free AudioBooks :  5,000,000+\n",
      "Ag PhD Field Guide :  10,000+\n",
      "Ag PhD Deficiencies :  10,000+\n",
      "Ag PhD Planting Population Calculator :  1,000+\n",
      "Ag PhD Soybean Diseases :  1,000+\n",
      "Fertilizer Removal By Crop :  50,000+\n",
      "A-J Media Vault :  50+\n",
      "Al-Quran (Free) :  10,000,000+\n",
      "Al Quran (Tafsir & by Word) :  500,000+\n",
      "Al Quran Indonesia :  10,000,000+\n",
      "Al'Quran Bahasa Indonesia :  10,000,000+\n",
      "Al Quran Al karim :  1,000,000+\n",
      "Al-Muhaffiz :  50,000+\n",
      "Al Quran : EAlim - Translations & MP3 Offline :  5,000,000+\n",
      "Al-Quran 30 Juz free copies :  500,000+\n",
      "Koran Read &MP3 30 Juz Offline :  1,000,000+\n",
      "Hafizi Quran 15 lines per page :  1,000,000+\n",
      "Quran for Android :  10,000,000+\n",
      "Surah Al-Waqiah :  100,000+\n",
      "Hisnul Al Muslim - Hisn Invocations & Adhkaar :  100,000+\n",
      "Satellite AR :  1,000,000+\n",
      "Audiobooks from Audible :  100,000,000+\n",
      "Kinot & Eichah for Tisha B'Av :  10,000+\n",
      "AW Tozer Devotionals - Daily :  5,000+\n",
      "Tozer Devotional -Series 1 :  1,000+\n",
      "The Pursuit of God :  1,000+\n",
      "AY Sing :  5,000+\n",
      "Ay Hasnain k Nana Milad Naat :  10,000+\n",
      "Ay Mohabbat Teri Khatir Novel :  10,000+\n",
      "Arizona Statutes, ARS (AZ Law) :  1,000+\n",
      "Oxford A-Z of English Usage :  1,000,000+\n",
      "BD Fishpedia :  1,000+\n",
      "BD All Sim Offer :  10,000+\n",
      "Youboox - Livres, BD et magazines :  500,000+\n",
      "B&H Kids AR :  10,000+\n",
      "B y H Niños ES :  5,000+\n",
      "Dictionary.com: Find Definitions for English Words :  10,000,000+\n",
      "English Dictionary - Offline :  10,000,000+\n",
      "Bible KJV :  5,000,000+\n",
      "Borneo Bible, BM Bible :  10,000+\n",
      "MOD Black for BM :  100+\n",
      "BM Box :  1,000+\n",
      "Anime Mod for BM :  100+\n",
      "NOOK: Read eBooks & Magazines :  10,000,000+\n",
      "NOOK Audiobooks :  500,000+\n",
      "NOOK App for NOOK Devices :  500,000+\n",
      "Browsery by Barnes & Noble :  5,000+\n",
      "bp e-store :  1,000+\n",
      "Brilliant Quotes: Life, Love, Family & Motivation :  1,000,000+\n",
      "BR Ambedkar Biography & Quotes :  10,000+\n",
      "BU Alsace :  100+\n",
      "Catholic La Bu Zo Kam :  500+\n",
      "Khrifa Hla Bu (Solfa) :  10+\n",
      "Kristian Hla Bu :  10,000+\n",
      "SA HLA BU :  1,000+\n",
      "Learn SAP BW :  500+\n",
      "Learn SAP BW on HANA :  500+\n",
      "CA Laws 2018 (California Laws and Codes) :  5,000+\n",
      "Bootable Methods(USB-CD-DVD) :  10,000+\n",
      "cloudLibrary :  100,000+\n",
      "SDA Collegiate Quarterly :  500+\n",
      "Sabbath School :  100,000+\n",
      "Cypress College Library :  100+\n",
      "Stats Royale for Clash Royale :  1,000,000+\n",
      "GATE 21 years CS Papers(2011-2018 Solved) :  50+\n",
      "Learn CT Scan Of Head :  5,000+\n",
      "Easy Cv maker 2018 :  10,000+\n",
      "How to Write CV :  100,000+\n",
      "CW Nuclear :  1,000+\n",
      "CY Spray nozzle :  10+\n",
      "BibleRead En Cy Zh Yue :  5+\n",
      "CZ-Help :  5+\n",
      "Modlitební knížka CZ :  500+\n",
      "Guide for DB Xenoverse :  10,000+\n",
      "Guide for DB Xenoverse 2 :  10,000+\n",
      "Guide for IMS DB :  10+\n",
      "DC HSEMA :  5,000+\n",
      "DC Public Library :  1,000+\n",
      "Painting Lulu DC Super Friends :  1,000+\n",
      "Dictionary :  10,000,000+\n",
      "Fix Error Google Playstore :  1,000+\n",
      "D. H. Lawrence Poems FREE :  1,000+\n",
      "Bilingual Dictionary Audio App :  5,000+\n",
      "DM Screen :  10,000+\n",
      "wikiHow: how to do anything :  1,000,000+\n",
      "Dr. Doug's Tips :  1,000+\n",
      "Bible du Semeur-BDS (French) :  50,000+\n",
      "La citadelle du musulman :  50,000+\n",
      "DV 2019 Entry Guide :  10,000+\n",
      "DV 2019 - EDV Photo & Form :  50,000+\n",
      "DV 2018 Winners Guide :  1,000+\n",
      "EB Annual Meetings :  1,000+\n",
      "EC - AP & Telangana :  5,000+\n",
      "TN Patta Citta & EC :  10,000+\n",
      "AP Stamps and Registration :  10,000+\n",
      "CompactiMa EC pH Calibration :  100+\n",
      "EGW Writings 2 :  100,000+\n",
      "EGW Writings :  1,000,000+\n",
      "Bible with EGW Comments :  100,000+\n",
      "My Little Pony AR Guide :  1,000,000+\n",
      "SDA Sabbath School Quarterly :  500,000+\n",
      "Duaa Ek Ibaadat :  5,000+\n",
      "Spanish English Translator :  10,000,000+\n",
      "Dictionary - Merriam-Webster :  10,000,000+\n",
      "JW Library :  10,000,000+\n",
      "Oxford Dictionary of English : Free :  10,000,000+\n",
      "English Hindi Dictionary :  10,000,000+\n",
      "English to Hindi Dictionary :  5,000,000+\n",
      "EP Research Service :  1,000+\n",
      "Hymnes et Louanges :  100,000+\n",
      "EU Charter :  1,000+\n",
      "EU Data Protection :  1,000+\n",
      "EU IP Codes :  100+\n",
      "EW PDF :  5+\n",
      "BakaReader EX :  100,000+\n",
      "EZ Quran :  50,000+\n",
      "FA Part 1 & 2 Past Papers Solved Free – Offline :  5,000+\n",
      "La Fe de Jesus :  1,000+\n",
      "La Fe de Jesús :  500+\n",
      "Le Fe de Jesus :  500+\n",
      "Florida - Pocket Brainbook :  1,000+\n",
      "Florida Statutes (FL Code) :  1,000+\n",
      "English To Shona Dictionary :  10,000+\n",
      "Greek Bible FP (Audio) :  1,000+\n",
      "Golden Dictionary (FR-AR) :  500,000+\n",
      "Fanfic-FR :  5,000+\n",
      "Bulgarian French Dictionary Fr :  10,000+\n",
      "Chemin (fr) :  1,000+\n",
      "The SCP Foundation DB fr nn5n :  1,000+\n"
     ]
    }
   ],
   "source": [
    "for app in android_final:\n",
    "    if app[1]=='BOOKS_AND_REFERENCE':\n",
    "        print(app[0],': ', app[5])"
   ]
  },
  {
   "cell_type": "code",
   "execution_count": 37,
   "id": "f74b0c6c",
   "metadata": {},
   "outputs": [
    {
     "name": "stdout",
     "output_type": "stream",
     "text": [
      "Google Play Books :  1,000,000,000+\n",
      "Bible :  100,000,000+\n",
      "Amazon Kindle :  100,000,000+\n",
      "Wattpad 📖 Free Books :  100,000,000+\n",
      "Audiobooks from Audible :  100,000,000+\n"
     ]
    }
   ],
   "source": [
    "for app in android_final:\n",
    "    if app[1]=='BOOKS_AND_REFERENCE' and (app[5]=='1,000,000,000+' \n",
    "                                          or app[5]=='500,000,000+' \n",
    "                                          or app[5]=='100,000,000+') :\n",
    "        print(app[0], ': ', app[5])\n",
    "    \n",
    "        "
   ]
  },
  {
   "cell_type": "markdown",
   "id": "bdc9a386",
   "metadata": {},
   "source": [
    "=>it looks like there are only a few very popular apps, so this market still shows potential.\n",
    "Let's try to get some app ideas based on the kind of apps that are somewhere in the middle in terms of popularity (between 1,000,000 and 100,000,000 downloads):\n"
   ]
  },
  {
   "cell_type": "code",
   "execution_count": 38,
   "id": "7782636e",
   "metadata": {},
   "outputs": [
    {
     "name": "stdout",
     "output_type": "stream",
     "text": [
      "Wikipedia : 10,000,000+\n",
      "Cool Reader : 10,000,000+\n",
      "Book store : 1,000,000+\n",
      "FBReader: Favorite Book Reader : 10,000,000+\n",
      "Free Books - Spirit Fanfiction and Stories : 1,000,000+\n",
      "AlReader -any text book reader : 5,000,000+\n",
      "FamilySearch Tree : 1,000,000+\n",
      "Cloud of Books : 1,000,000+\n",
      "ReadEra – free ebook reader : 1,000,000+\n",
      "Ebook Reader : 5,000,000+\n",
      "Read books online : 5,000,000+\n",
      "eBoox: book reader fb2 epub zip : 1,000,000+\n",
      "All Maths Formulas : 1,000,000+\n",
      "Ancestry : 5,000,000+\n",
      "HTC Help : 10,000,000+\n",
      "Moon+ Reader : 10,000,000+\n",
      "English-Myanmar Dictionary : 1,000,000+\n",
      "Golden Dictionary (EN-AR) : 1,000,000+\n",
      "All Language Translator Free : 1,000,000+\n",
      "Aldiko Book Reader : 10,000,000+\n",
      "Dictionary - WordWeb : 5,000,000+\n",
      "50000 Free eBooks & Free AudioBooks : 5,000,000+\n",
      "Al-Quran (Free) : 10,000,000+\n",
      "Al Quran Indonesia : 10,000,000+\n",
      "Al'Quran Bahasa Indonesia : 10,000,000+\n",
      "Al Quran Al karim : 1,000,000+\n",
      "Al Quran : EAlim - Translations & MP3 Offline : 5,000,000+\n",
      "Koran Read &MP3 30 Juz Offline : 1,000,000+\n",
      "Hafizi Quran 15 lines per page : 1,000,000+\n",
      "Quran for Android : 10,000,000+\n",
      "Satellite AR : 1,000,000+\n",
      "Oxford A-Z of English Usage : 1,000,000+\n",
      "Dictionary.com: Find Definitions for English Words : 10,000,000+\n",
      "English Dictionary - Offline : 10,000,000+\n",
      "Bible KJV : 5,000,000+\n",
      "NOOK: Read eBooks & Magazines : 10,000,000+\n",
      "Brilliant Quotes: Life, Love, Family & Motivation : 1,000,000+\n",
      "Stats Royale for Clash Royale : 1,000,000+\n",
      "Dictionary : 10,000,000+\n",
      "wikiHow: how to do anything : 1,000,000+\n",
      "EGW Writings : 1,000,000+\n",
      "My Little Pony AR Guide : 1,000,000+\n",
      "Spanish English Translator : 10,000,000+\n",
      "Dictionary - Merriam-Webster : 10,000,000+\n",
      "JW Library : 10,000,000+\n",
      "Oxford Dictionary of English : Free : 10,000,000+\n",
      "English Hindi Dictionary : 10,000,000+\n",
      "English to Hindi Dictionary : 5,000,000+\n"
     ]
    }
   ],
   "source": [
    "for app in android_final:\n",
    "    if app[1] == 'BOOKS_AND_REFERENCE' and (app[5] == '1,000,000+'\n",
    "                                            or app[5] == '5,000,000+'\n",
    "                                            or app[5] == '10,000,000+'\n",
    "                                            or app[5] == '50,000,000+'):\n",
    "        print(app[0], ':', app[5])"
   ]
  },
  {
   "cell_type": "markdown",
   "id": "78c6825b",
   "metadata": {},
   "source": [
    "=> This niche seems to be dominated by software for processing and reading ebooks, as well as various collections of libraries and dictionaries, so it's probably not a good idea to build similar apps since there'll be some significant competition.\n",
    "We also notice there are quite a few apps built around the book Quran, which suggests that building an app around a popular book can be profitable. It seems that taking a popular book (perhaps a more recent book) and turning it into an app could be profitable for both the Google Play and the App Store markets.\n",
    "However, it looks like the market is already full of libraries, so we need to add some special features besides the raw version of the book. This might include daily quotes from the book, an audio version of the book, quizzes on the book, a forum where people can discuss the book, etc."
   ]
  },
  {
   "cell_type": "markdown",
   "id": "677ff42d",
   "metadata": {},
   "source": [
    "# Conclusions"
   ]
  },
  {
   "cell_type": "markdown",
   "id": "49f4fada",
   "metadata": {},
   "source": [
    "In this project, we analyzed data about the App Store and Google Play mobile apps with the goal of recommending an app profile that can be profitable for both markets.\n",
    "\n",
    "We concluded that taking a popular book (perhaps a more recent book) and turning it into an app could be profitable for both the Google Play and the App Store markets. The markets are already full of libraries, so we need to add some special features besides the raw version of the book. This might include daily quotes from the book, an audio version of the book, quizzes on the book, a forum where people can discuss the book, etc."
   ]
  }
 ],
 "metadata": {
  "kernelspec": {
   "display_name": "Python 3 (ipykernel)",
   "language": "python",
   "name": "python3"
  },
  "language_info": {
   "codemirror_mode": {
    "name": "ipython",
    "version": 3
   },
   "file_extension": ".py",
   "mimetype": "text/x-python",
   "name": "python",
   "nbconvert_exporter": "python",
   "pygments_lexer": "ipython3",
   "version": "3.9.12"
  }
 },
 "nbformat": 4,
 "nbformat_minor": 5
}
